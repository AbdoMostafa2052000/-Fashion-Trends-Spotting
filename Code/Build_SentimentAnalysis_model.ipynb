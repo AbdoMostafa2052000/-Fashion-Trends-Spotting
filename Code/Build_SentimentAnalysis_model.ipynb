{
  "cells": [
    {
      "cell_type": "code",
      "execution_count": 1,
      "metadata": {
        "colab": {
          "base_uri": "https://localhost:8080/"
        },
        "id": "wRD3Y2QhiDrR",
        "outputId": "c08f2ef2-b6cd-47d8-d46b-8de272e5058c"
      },
      "outputs": [
        {
          "output_type": "stream",
          "name": "stdout",
          "text": [
            "Mounted at /content/drive\n",
            "/content/drive/MyDrive/ITI_GP_Twenty Too\n"
          ]
        }
      ],
      "source": [
        "from google.colab import drive\n",
        "drive.mount('/content/drive')\n",
        "%cd \"/content/drive/MyDrive/ITI_GP_Twenty Too\"\n",
        "! ls"
      ]
    },
    {
      "cell_type": "code",
      "execution_count": null,
      "metadata": {
        "colab": {
          "base_uri": "https://localhost:8080/"
        },
        "id": "AbOYXOAI16Mq",
        "outputId": "ca1e73c2-d828-4979-c280-9041c828f00f"
      },
      "outputs": [
        {
          "name": "stdout",
          "output_type": "stream",
          "text": [
            "Collecting emoji\n",
            "  Downloading emoji-2.12.1-py3-none-any.whl (431 kB)\n",
            "\u001b[2K     \u001b[90m━━━━━━━━━━━━━━━━━━━━━━━━━━━━━━━━━━━━━━━━\u001b[0m \u001b[32m431.4/431.4 kB\u001b[0m \u001b[31m2.6 MB/s\u001b[0m eta \u001b[36m0:00:00\u001b[0m\n",
            "\u001b[?25hRequirement already satisfied: typing-extensions>=4.7.0 in /usr/local/lib/python3.10/dist-packages (from emoji) (4.12.2)\n",
            "Installing collected packages: emoji\n",
            "Successfully installed emoji-2.12.1\n"
          ]
        }
      ],
      "source": [
        "! pip install emoji"
      ]
    },
    {
      "cell_type": "code",
      "execution_count": null,
      "metadata": {
        "colab": {
          "base_uri": "https://localhost:8080/"
        },
        "id": "AwdPNBGXiUbF",
        "outputId": "dceeb670-d2c5-476f-d733-8f589febd69a"
      },
      "outputs": [
        {
          "name": "stderr",
          "output_type": "stream",
          "text": [
            "[nltk_data] Downloading package stopwords to /root/nltk_data...\n",
            "[nltk_data]   Package stopwords is already up-to-date!\n"
          ]
        }
      ],
      "source": [
        "import pandas as pd\n",
        "import matplotlib.pyplot as plt\n",
        "import numpy as np\n",
        "import seaborn as sns\n",
        "import re\n",
        "from tqdm import tqdm\n",
        "import emoji\n",
        "import sklearn\n",
        "from sklearn.pipeline import Pipeline, FeatureUnion\n",
        "from sklearn.preprocessing import FunctionTransformer, LabelEncoder\n",
        "from sklearn.model_selection import train_test_split\n",
        "import nltk\n",
        "nltk.download('stopwords')\n",
        "from nltk.corpus import stopwords\n",
        "from sklearn.base import BaseEstimator, TransformerMixin\n",
        "from sklearn.feature_extraction.text import TfidfVectorizer\n",
        "from sklearn.feature_extraction.text import CountVectorizer\n",
        "from sklearn.linear_model import LogisticRegression\n",
        "from sklearn.naive_bayes import MultinomialNB, GaussianNB\n",
        "from sklearn.metrics import f1_score, classification_report, confusion_matrix\n",
        "from sklearn.ensemble import VotingClassifier\n",
        "from sklearn.utils.class_weight import compute_class_weight\n",
        "from sklearn.svm import SVC\n",
        "from xgboost import XGBClassifier\n",
        "pd.set_option('display.max_rows', 500)\n",
        "pd.set_option('display.max_colwidth', 1000)"
      ]
    },
    {
      "cell_type": "markdown",
      "metadata": {
        "id": "wyMFz4pMzGb9"
      },
      "source": [
        "# Versions of libraries used :"
      ]
    },
    {
      "cell_type": "code",
      "execution_count": null,
      "metadata": {
        "colab": {
          "base_uri": "https://localhost:8080/"
        },
        "id": "bKO1a1TCySJz",
        "outputId": "aad45abb-4c50-4686-e235-ff702de30eb6"
      },
      "outputs": [
        {
          "name": "stdout",
          "output_type": "stream",
          "text": [
            "numpy version  :  1.25.2\n",
            "pandas version  :  2.0.3\n",
            "re version  :  2.2.1\n",
            "scikit-learn  :  1.2.2\n",
            "nltk version  :  3.8.1\n"
          ]
        }
      ],
      "source": [
        "print(\"numpy version  : \",np.__version__)\n",
        "print(\"pandas version  : \",pd.__version__)\n",
        "print(\"re version  : \",re.__version__)\n",
        "print(\"scikit-learn  : \",sklearn.__version__)\n",
        "print(\"nltk version  : \",nltk.__version__)\n"
      ]
    },
    {
      "cell_type": "markdown",
      "metadata": {
        "id": "TLum7VWTzM9a"
      },
      "source": [
        "# Reading Data and pre-processing"
      ]
    },
    {
      "cell_type": "code",
      "execution_count": null,
      "metadata": {
        "id": "XBcIuE5NiwLW"
      },
      "outputs": [],
      "source": [
        "df = pd.read_csv('comment_vs_sentiment.csv', encoding='utf-8', engine='python')\n",
        "df.dropna(inplace=True)"
      ]
    },
    {
      "cell_type": "code",
      "execution_count": null,
      "metadata": {
        "colab": {
          "base_uri": "https://localhost:8080/",
          "height": 206
        },
        "id": "3PkCAXNpckCq",
        "outputId": "e43eb3c2-5796-46b1-a81a-8f9db08ed999"
      },
      "outputs": [
        {
          "data": {
            "application/vnd.google.colaboratory.intrinsic+json": {
              "summary": "{\n  \"name\": \"df\",\n  \"rows\": 28962,\n  \"fields\": [\n    {\n      \"column\": \"comment\",\n      \"properties\": {\n        \"dtype\": \"string\",\n        \"num_unique_values\": 18066,\n        \"samples\": [\n          \"\\ud83d\\udc4f\\u0627\\u0637\\u0644\\u0628\\u0648\\u0627 \\u0628\\u0647\\u0630\\u064a \\u0631\\u0645\\u0632 \\u062a\\u0631\\u0648\\u064a\\u062c\\u064a  \\u064a\\u062c\\u064a\\u0643\\u0645 \\u0631\\u064a\\u0627\\u0644 \\u0643\\u0644 \\u0645\\u0631\\u0629  \\u0631\\u064a\\u0627\\u0644 \\u0641 \\u0627\\u0644\\u0645\\u062e\\u0641\\u0638\\u0629  \\u0645\\u0646 \\u062a\\u0637\\u0628\\u064a\\u0642 \\u0647\\u0646\\u063a\\u0631\\u0633\\u062a\\u064a\\u0634\\u0646\",\n          \"Yall are my favourite shop to ever exist \\u2665\\ufe0f\\ud83d\\ude4c\",\n          \"\\ud83d\\ude0d\\ud83d\\ude0d MUY TOP\"\n        ],\n        \"semantic_type\": \"\",\n        \"description\": \"\"\n      }\n    },\n    {\n      \"column\": \"sentiment\",\n      \"properties\": {\n        \"dtype\": \"category\",\n        \"num_unique_values\": 4,\n        \"samples\": [\n          \"positive\",\n          \"unknown\",\n          \"neutral\"\n        ],\n        \"semantic_type\": \"\",\n        \"description\": \"\"\n      }\n    }\n  ]\n}",
              "type": "dataframe",
              "variable_name": "df"
            },
            "text/html": [
              "\n",
              "  <div id=\"df-6389d55b-9d06-4a8c-b68b-47f6ef283008\" class=\"colab-df-container\">\n",
              "    <div>\n",
              "<style scoped>\n",
              "    .dataframe tbody tr th:only-of-type {\n",
              "        vertical-align: middle;\n",
              "    }\n",
              "\n",
              "    .dataframe tbody tr th {\n",
              "        vertical-align: top;\n",
              "    }\n",
              "\n",
              "    .dataframe thead th {\n",
              "        text-align: right;\n",
              "    }\n",
              "</style>\n",
              "<table border=\"1\" class=\"dataframe\">\n",
              "  <thead>\n",
              "    <tr style=\"text-align: right;\">\n",
              "      <th></th>\n",
              "      <th>comment</th>\n",
              "      <th>sentiment</th>\n",
              "    </tr>\n",
              "  </thead>\n",
              "  <tbody>\n",
              "    <tr>\n",
              "      <th>0</th>\n",
              "      <td>When do you guys restock?</td>\n",
              "      <td>neutral</td>\n",
              "    </tr>\n",
              "    <tr>\n",
              "      <th>1</th>\n",
              "      <td>عالی😍🔥</td>\n",
              "      <td>positive</td>\n",
              "    </tr>\n",
              "    <tr>\n",
              "      <th>2</th>\n",
              "      <td>Dont buy in the app they are selling clothes without stock and after don’t return your money.</td>\n",
              "      <td>negative</td>\n",
              "    </tr>\n",
              "    <tr>\n",
              "      <th>3</th>\n",
              "      <td>👏👏🔥🔥</td>\n",
              "      <td>positive</td>\n",
              "    </tr>\n",
              "    <tr>\n",
              "      <th>4</th>\n",
              "      <td>❤️❤️❤️❤️</td>\n",
              "      <td>positive</td>\n",
              "    </tr>\n",
              "  </tbody>\n",
              "</table>\n",
              "</div>\n",
              "    <div class=\"colab-df-buttons\">\n",
              "\n",
              "  <div class=\"colab-df-container\">\n",
              "    <button class=\"colab-df-convert\" onclick=\"convertToInteractive('df-6389d55b-9d06-4a8c-b68b-47f6ef283008')\"\n",
              "            title=\"Convert this dataframe to an interactive table.\"\n",
              "            style=\"display:none;\">\n",
              "\n",
              "  <svg xmlns=\"http://www.w3.org/2000/svg\" height=\"24px\" viewBox=\"0 -960 960 960\">\n",
              "    <path d=\"M120-120v-720h720v720H120Zm60-500h600v-160H180v160Zm220 220h160v-160H400v160Zm0 220h160v-160H400v160ZM180-400h160v-160H180v160Zm440 0h160v-160H620v160ZM180-180h160v-160H180v160Zm440 0h160v-160H620v160Z\"/>\n",
              "  </svg>\n",
              "    </button>\n",
              "\n",
              "  <style>\n",
              "    .colab-df-container {\n",
              "      display:flex;\n",
              "      gap: 12px;\n",
              "    }\n",
              "\n",
              "    .colab-df-convert {\n",
              "      background-color: #E8F0FE;\n",
              "      border: none;\n",
              "      border-radius: 50%;\n",
              "      cursor: pointer;\n",
              "      display: none;\n",
              "      fill: #1967D2;\n",
              "      height: 32px;\n",
              "      padding: 0 0 0 0;\n",
              "      width: 32px;\n",
              "    }\n",
              "\n",
              "    .colab-df-convert:hover {\n",
              "      background-color: #E2EBFA;\n",
              "      box-shadow: 0px 1px 2px rgba(60, 64, 67, 0.3), 0px 1px 3px 1px rgba(60, 64, 67, 0.15);\n",
              "      fill: #174EA6;\n",
              "    }\n",
              "\n",
              "    .colab-df-buttons div {\n",
              "      margin-bottom: 4px;\n",
              "    }\n",
              "\n",
              "    [theme=dark] .colab-df-convert {\n",
              "      background-color: #3B4455;\n",
              "      fill: #D2E3FC;\n",
              "    }\n",
              "\n",
              "    [theme=dark] .colab-df-convert:hover {\n",
              "      background-color: #434B5C;\n",
              "      box-shadow: 0px 1px 3px 1px rgba(0, 0, 0, 0.15);\n",
              "      filter: drop-shadow(0px 1px 2px rgba(0, 0, 0, 0.3));\n",
              "      fill: #FFFFFF;\n",
              "    }\n",
              "  </style>\n",
              "\n",
              "    <script>\n",
              "      const buttonEl =\n",
              "        document.querySelector('#df-6389d55b-9d06-4a8c-b68b-47f6ef283008 button.colab-df-convert');\n",
              "      buttonEl.style.display =\n",
              "        google.colab.kernel.accessAllowed ? 'block' : 'none';\n",
              "\n",
              "      async function convertToInteractive(key) {\n",
              "        const element = document.querySelector('#df-6389d55b-9d06-4a8c-b68b-47f6ef283008');\n",
              "        const dataTable =\n",
              "          await google.colab.kernel.invokeFunction('convertToInteractive',\n",
              "                                                    [key], {});\n",
              "        if (!dataTable) return;\n",
              "\n",
              "        const docLinkHtml = 'Like what you see? Visit the ' +\n",
              "          '<a target=\"_blank\" href=https://colab.research.google.com/notebooks/data_table.ipynb>data table notebook</a>'\n",
              "          + ' to learn more about interactive tables.';\n",
              "        element.innerHTML = '';\n",
              "        dataTable['output_type'] = 'display_data';\n",
              "        await google.colab.output.renderOutput(dataTable, element);\n",
              "        const docLink = document.createElement('div');\n",
              "        docLink.innerHTML = docLinkHtml;\n",
              "        element.appendChild(docLink);\n",
              "      }\n",
              "    </script>\n",
              "  </div>\n",
              "\n",
              "\n",
              "<div id=\"df-2f0416a3-69f3-4ddf-ae1c-449d509544fd\">\n",
              "  <button class=\"colab-df-quickchart\" onclick=\"quickchart('df-2f0416a3-69f3-4ddf-ae1c-449d509544fd')\"\n",
              "            title=\"Suggest charts\"\n",
              "            style=\"display:none;\">\n",
              "\n",
              "<svg xmlns=\"http://www.w3.org/2000/svg\" height=\"24px\"viewBox=\"0 0 24 24\"\n",
              "     width=\"24px\">\n",
              "    <g>\n",
              "        <path d=\"M19 3H5c-1.1 0-2 .9-2 2v14c0 1.1.9 2 2 2h14c1.1 0 2-.9 2-2V5c0-1.1-.9-2-2-2zM9 17H7v-7h2v7zm4 0h-2V7h2v10zm4 0h-2v-4h2v4z\"/>\n",
              "    </g>\n",
              "</svg>\n",
              "  </button>\n",
              "\n",
              "<style>\n",
              "  .colab-df-quickchart {\n",
              "      --bg-color: #E8F0FE;\n",
              "      --fill-color: #1967D2;\n",
              "      --hover-bg-color: #E2EBFA;\n",
              "      --hover-fill-color: #174EA6;\n",
              "      --disabled-fill-color: #AAA;\n",
              "      --disabled-bg-color: #DDD;\n",
              "  }\n",
              "\n",
              "  [theme=dark] .colab-df-quickchart {\n",
              "      --bg-color: #3B4455;\n",
              "      --fill-color: #D2E3FC;\n",
              "      --hover-bg-color: #434B5C;\n",
              "      --hover-fill-color: #FFFFFF;\n",
              "      --disabled-bg-color: #3B4455;\n",
              "      --disabled-fill-color: #666;\n",
              "  }\n",
              "\n",
              "  .colab-df-quickchart {\n",
              "    background-color: var(--bg-color);\n",
              "    border: none;\n",
              "    border-radius: 50%;\n",
              "    cursor: pointer;\n",
              "    display: none;\n",
              "    fill: var(--fill-color);\n",
              "    height: 32px;\n",
              "    padding: 0;\n",
              "    width: 32px;\n",
              "  }\n",
              "\n",
              "  .colab-df-quickchart:hover {\n",
              "    background-color: var(--hover-bg-color);\n",
              "    box-shadow: 0 1px 2px rgba(60, 64, 67, 0.3), 0 1px 3px 1px rgba(60, 64, 67, 0.15);\n",
              "    fill: var(--button-hover-fill-color);\n",
              "  }\n",
              "\n",
              "  .colab-df-quickchart-complete:disabled,\n",
              "  .colab-df-quickchart-complete:disabled:hover {\n",
              "    background-color: var(--disabled-bg-color);\n",
              "    fill: var(--disabled-fill-color);\n",
              "    box-shadow: none;\n",
              "  }\n",
              "\n",
              "  .colab-df-spinner {\n",
              "    border: 2px solid var(--fill-color);\n",
              "    border-color: transparent;\n",
              "    border-bottom-color: var(--fill-color);\n",
              "    animation:\n",
              "      spin 1s steps(1) infinite;\n",
              "  }\n",
              "\n",
              "  @keyframes spin {\n",
              "    0% {\n",
              "      border-color: transparent;\n",
              "      border-bottom-color: var(--fill-color);\n",
              "      border-left-color: var(--fill-color);\n",
              "    }\n",
              "    20% {\n",
              "      border-color: transparent;\n",
              "      border-left-color: var(--fill-color);\n",
              "      border-top-color: var(--fill-color);\n",
              "    }\n",
              "    30% {\n",
              "      border-color: transparent;\n",
              "      border-left-color: var(--fill-color);\n",
              "      border-top-color: var(--fill-color);\n",
              "      border-right-color: var(--fill-color);\n",
              "    }\n",
              "    40% {\n",
              "      border-color: transparent;\n",
              "      border-right-color: var(--fill-color);\n",
              "      border-top-color: var(--fill-color);\n",
              "    }\n",
              "    60% {\n",
              "      border-color: transparent;\n",
              "      border-right-color: var(--fill-color);\n",
              "    }\n",
              "    80% {\n",
              "      border-color: transparent;\n",
              "      border-right-color: var(--fill-color);\n",
              "      border-bottom-color: var(--fill-color);\n",
              "    }\n",
              "    90% {\n",
              "      border-color: transparent;\n",
              "      border-bottom-color: var(--fill-color);\n",
              "    }\n",
              "  }\n",
              "</style>\n",
              "\n",
              "  <script>\n",
              "    async function quickchart(key) {\n",
              "      const quickchartButtonEl =\n",
              "        document.querySelector('#' + key + ' button');\n",
              "      quickchartButtonEl.disabled = true;  // To prevent multiple clicks.\n",
              "      quickchartButtonEl.classList.add('colab-df-spinner');\n",
              "      try {\n",
              "        const charts = await google.colab.kernel.invokeFunction(\n",
              "            'suggestCharts', [key], {});\n",
              "      } catch (error) {\n",
              "        console.error('Error during call to suggestCharts:', error);\n",
              "      }\n",
              "      quickchartButtonEl.classList.remove('colab-df-spinner');\n",
              "      quickchartButtonEl.classList.add('colab-df-quickchart-complete');\n",
              "    }\n",
              "    (() => {\n",
              "      let quickchartButtonEl =\n",
              "        document.querySelector('#df-2f0416a3-69f3-4ddf-ae1c-449d509544fd button');\n",
              "      quickchartButtonEl.style.display =\n",
              "        google.colab.kernel.accessAllowed ? 'block' : 'none';\n",
              "    })();\n",
              "  </script>\n",
              "</div>\n",
              "\n",
              "    </div>\n",
              "  </div>\n"
            ],
            "text/plain": [
              "                                                                                         comment  \\\n",
              "0                                                                      When do you guys restock?   \n",
              "1                                                                                         عالی😍🔥   \n",
              "2  Dont buy in the app they are selling clothes without stock and after don’t return your money.   \n",
              "3                                                                                           👏👏🔥🔥   \n",
              "4                                                                                       ❤️❤️❤️❤️   \n",
              "\n",
              "  sentiment  \n",
              "0   neutral  \n",
              "1  positive  \n",
              "2  negative  \n",
              "3  positive  \n",
              "4  positive  "
            ]
          },
          "execution_count": 7,
          "metadata": {},
          "output_type": "execute_result"
        }
      ],
      "source": [
        "df.head()"
      ]
    },
    {
      "cell_type": "code",
      "execution_count": null,
      "metadata": {
        "colab": {
          "base_uri": "https://localhost:8080/"
        },
        "id": "vwfsljpQcnfk",
        "outputId": "f9986c82-581f-4870-e2e9-25c5a4b88f96"
      },
      "outputs": [
        {
          "data": {
            "text/plain": [
              "sentiment\n",
              "positive    14873\n",
              "neutral      9544\n",
              "negative     4544\n",
              "unknown         1\n",
              "Name: count, dtype: int64"
            ]
          },
          "execution_count": 9,
          "metadata": {},
          "output_type": "execute_result"
        }
      ],
      "source": [
        "df[\"sentiment\"].value_counts()"
      ]
    },
    {
      "cell_type": "code",
      "execution_count": null,
      "metadata": {
        "id": "CW1ABXmpcr2S"
      },
      "outputs": [],
      "source": [
        "df = df[df['sentiment'] != 'unknown']"
      ]
    },
    {
      "cell_type": "code",
      "execution_count": null,
      "metadata": {
        "id": "RX2UyacBcewj"
      },
      "outputs": [],
      "source": [
        "X_train, X_other, y_train, y_other = train_test_split(df['comment'], df['sentiment'], test_size=0.2, shuffle=True, stratify=df['sentiment'], random_state=123)\n",
        "X_val, X_test, y_val, y_test = train_test_split(X_other, y_other, test_size=0.5, shuffle=True, stratify=y_other, random_state=123)\n",
        "train = pd.concat([X_train, y_train], axis=1).reset_index(drop=True)\n",
        "val = pd.concat([X_val, y_val], axis=1).reset_index(drop=True)\n",
        "test = pd.concat([X_test, y_test], axis=1).reset_index(drop=True)"
      ]
    },
    {
      "cell_type": "markdown",
      "metadata": {
        "id": "Hk0iBRTSZLuA"
      },
      "source": [
        "## 1- Multinominal Naive-Bayes :"
      ]
    },
    {
      "cell_type": "code",
      "execution_count": null,
      "metadata": {
        "colab": {
          "base_uri": "https://localhost:8080/"
        },
        "id": "Jg9qr7ZUduBz",
        "outputId": "b62d9383-ed3f-4c91-9560-d3947fdb1fcf"
      },
      "outputs": [
        {
          "data": {
            "text/plain": [
              "{0: 2.124530032095369, 1: 1.0114822091246454, 2: 0.6490726732784221}"
            ]
          },
          "execution_count": 12,
          "metadata": {},
          "output_type": "execute_result"
        }
      ],
      "source": [
        "class_weights = compute_class_weight(class_weight=\"balanced\", classes=np.unique(y_train), y=y_train)\n",
        "class_weight = {i: weight for i, weight in enumerate(class_weights)}\n",
        "class_weight"
      ]
    },
    {
      "cell_type": "code",
      "execution_count": null,
      "metadata": {
        "id": "59RYsJEbe-fq"
      },
      "outputs": [],
      "source": [
        "class_weight_lr = {'negative': 2.124530032095369, 'neutral': 1.0114822091246454, 'positive': 0.6490726732784221}"
      ]
    },
    {
      "cell_type": "code",
      "execution_count": null,
      "metadata": {
        "colab": {
          "base_uri": "https://localhost:8080/"
        },
        "id": "HeU63i2PWFzI",
        "outputId": "1bb8488a-69aa-4e8a-d8b5-89f5cfa9297a"
      },
      "outputs": [
        {
          "name": "stdout",
          "output_type": "stream",
          "text": [
            "[0.5612899261407697, 0.267228406224191, 0.1714816676350393]\n"
          ]
        }
      ],
      "source": [
        "total_weight = sum(class_weight.values())\n",
        "class_prior = [class_weight[i] / total_weight for i in range(len(class_weight))]\n",
        "print(class_prior)"
      ]
    },
    {
      "cell_type": "code",
      "execution_count": null,
      "metadata": {
        "id": "OMneo2iQYbYr"
      },
      "outputs": [],
      "source": [
        "mnb = MultinomialNB(class_prior=class_prior)\n",
        "tfidf_vectorizer = TfidfVectorizer(max_features=250000)\n",
        "count_vectorizer = CountVectorizer(max_features=250000)\n",
        "target_labels = ['+ve', '0neu', '-ve']\n"
      ]
    },
    {
      "cell_type": "code",
      "execution_count": null,
      "metadata": {
        "id": "3mfiwQXn1yup"
      },
      "outputs": [],
      "source": [
        "class Demojizer(BaseEstimator, TransformerMixin):\n",
        "    def fit(self, X, y=None):\n",
        "        return self\n",
        "\n",
        "    def transform(self, X, y=None):\n",
        "        return [emoji.demojize(text) for text in X]"
      ]
    },
    {
      "cell_type": "markdown",
      "metadata": {
        "id": "TddnVO-TZRVg"
      },
      "source": [
        "## 2- Logistic Regression :"
      ]
    },
    {
      "cell_type": "code",
      "execution_count": null,
      "metadata": {
        "colab": {
          "base_uri": "https://localhost:8080/"
        },
        "id": "mFVngRBWet47",
        "outputId": "6c8f5145-a839-494d-e557-ec8de0860d86"
      },
      "outputs": [
        {
          "data": {
            "text/plain": [
              "array([2.12453003, 1.01148221, 0.64907267])"
            ]
          },
          "execution_count": 29,
          "metadata": {},
          "output_type": "execute_result"
        }
      ],
      "source": [
        "class_weights"
      ]
    },
    {
      "cell_type": "markdown",
      "metadata": {
        "id": "SSnV0tXDaoNP"
      },
      "source": [
        "# Approximately Logistic-Regression is slightly better than Multi-nominal Naive Bayes"
      ]
    },
    {
      "cell_type": "markdown",
      "metadata": {
        "id": "4VXcJX5HwrZy"
      },
      "source": [
        "# `Create Voter Classifier : `"
      ]
    },
    {
      "cell_type": "code",
      "execution_count": null,
      "metadata": {
        "colab": {
          "base_uri": "https://localhost:8080/",
          "height": 738
        },
        "id": "cCRqhO5OajCa",
        "outputId": "7bffac92-e458-40e4-8881-ef317f923386"
      },
      "outputs": [
        {
          "name": "stdout",
          "output_type": "stream",
          "text": [
            "              precision    recall  f1-score   support\n",
            "\n",
            "    negative       0.66      0.85      0.74       455\n",
            "     neutral       0.82      0.77      0.79       954\n",
            "    positive       0.95      0.91      0.93      1487\n",
            "\n",
            "    accuracy                           0.85      2896\n",
            "   macro avg       0.81      0.84      0.82      2896\n",
            "weighted avg       0.86      0.85      0.85      2896\n",
            "\n"
          ]
        },
        {
          "data": {
            "image/png": "[encoded data removed]",
            "text/plain": [
              "<Figure size 800x600 with 2 Axes>"
            ]
          },
          "metadata": {},
          "output_type": "display_data"
        }
      ],
      "source": [
        "count_vectorizer = CountVectorizer(max_features=1000000)\n",
        "tfidf_vectorizer = TfidfVectorizer(max_features=1000000)\n",
        "\n",
        "lr1 = LogisticRegression(class_weight=class_weight, max_iter=50000, C=1)\n",
        "mnb1 = MultinomialNB(class_prior=class_prior)\n",
        "voting_clf = VotingClassifier(estimators=[('mnb1', mnb1),('lr1', lr1)], voting='soft')\n",
        "\n",
        "pipeline = Pipeline(steps=[\n",
        "    ('demojizer', Demojizer()),\n",
        "    ('Vectorizing', count_vectorizer),\n",
        "    ('voter', voting_clf),\n",
        "])\n",
        "\n",
        "pipeline.fit(X_train, y_train)\n",
        "y_pred = pipeline.predict(X_val)\n",
        "report = classification_report(y_val, y_pred)\n",
        "print(report)\n",
        "\n",
        "normalized_cm = confusion_matrix(y_val, y_pred, normalize='true')\n",
        "plt.figure(figsize=(8, 6))\n",
        "sns.heatmap(normalized_cm, annot=True, cmap='Blues', xticklabels=target_labels, yticklabels=target_labels)\n",
        "plt.xlabel('Predicted')\n",
        "plt.ylabel('Actual')\n",
        "plt.title('Normalized Confusion Matrix')\n",
        "plt.show()"
      ]
    },
    {
      "cell_type": "markdown",
      "metadata": {
        "id": "0beASfHtFZtG"
      },
      "source": [
        "# Train to Whole Dataset and, Finaaaaaaallllyyyy save ⚡"
      ]
    },
    {
      "cell_type": "code",
      "execution_count": null,
      "metadata": {
        "colab": {
          "base_uri": "https://localhost:8080/",
          "height": 738
        },
        "id": "CeVg2fcxFh4Y",
        "outputId": "a1737fb6-18d3-4f8f-bf22-775b1345c97e"
      },
      "outputs": [
        {
          "name": "stdout",
          "output_type": "stream",
          "text": [
            "              precision    recall  f1-score   support\n",
            "\n",
            "    negative       0.81      0.95      0.87       455\n",
            "     neutral       0.91      0.88      0.89       954\n",
            "    positive       0.97      0.94      0.95      1487\n",
            "\n",
            "    accuracy                           0.92      2896\n",
            "   macro avg       0.89      0.92      0.91      2896\n",
            "weighted avg       0.92      0.92      0.92      2896\n",
            "\n"
          ]
        },
        {
          "data": {
            "image/png": "[encoded data removed]",
            "text/plain": [
              "<Figure size 800x600 with 2 Axes>"
            ]
          },
          "metadata": {},
          "output_type": "display_data"
        }
      ],
      "source": [
        "count_vectorizer = CountVectorizer(max_features=1000000)\n",
        "tfidf_vectorizer = TfidfVectorizer(max_features=1000000)\n",
        "\n",
        "lr1 = LogisticRegression(class_weight=class_weight, max_iter=50000, C=1)\n",
        "mnb1 = MultinomialNB(class_prior=class_prior)\n",
        "voting_clf = VotingClassifier(estimators=[('mnb1', mnb1),('lr1', lr1)], voting='soft')\n",
        "\n",
        "pipeline = Pipeline(steps=[\n",
        "    ('demojizer', Demojizer()),\n",
        "    ('Vectorizing', count_vectorizer),\n",
        "    ('voter', voting_clf),\n",
        "])\n",
        "\n",
        "pipeline.fit(df[\"comment\"], df[\"sentiment\"])\n",
        "y_pred = pipeline.predict(X_val)\n",
        "report = classification_report(y_val, y_pred)\n",
        "print(report)\n",
        "\n",
        "normalized_cm = confusion_matrix(y_val, y_pred, normalize='true')\n",
        "plt.figure(figsize=(8, 6))\n",
        "sns.heatmap(normalized_cm, annot=True, cmap='Blues', xticklabels=target_labels, yticklabels=target_labels)\n",
        "plt.xlabel('Predicted')\n",
        "plt.ylabel('Actual')\n",
        "plt.title('Normalized Confusion Matrix')\n",
        "plt.show()\n"
      ]
    },
    {
      "cell_type": "code",
      "execution_count": null,
      "metadata": {
        "id": "RwBTvdGIdwTL"
      },
      "outputs": [],
      "source": [
        "import joblib\n",
        "joblib.dump(pipeline, 'SA.pkl')\n",
        "\n",
        "# Load it to check it is properly saved ✅\n",
        "loaded_pipeline = joblib.load('SA.pkl')\n",
        "\n"
      ]
    },
    {
      "cell_type": "markdown",
      "metadata": {
        "id": "AuNhQ1GTaICQ"
      },
      "source": [
        "## Final Testing :"
      ]
    },
    {
      "cell_type": "code",
      "execution_count": null,
      "metadata": {
        "colab": {
          "base_uri": "https://localhost:8080/"
        },
        "id": "q2f8UP5ZaICQ",
        "outputId": "42d1ec95-6503-44b8-ee01-3663afbbc7ac"
      },
      "outputs": [
        {
          "name": "stdout",
          "output_type": "stream",
          "text": [
            "              precision    recall  f1-score   support\n",
            "\n",
            "    negative       0.81      0.94      0.87       454\n",
            "     neutral       0.90      0.89      0.89       955\n",
            "    positive       0.97      0.92      0.94      1488\n",
            "\n",
            "    accuracy                           0.92      2897\n",
            "   macro avg       0.89      0.92      0.90      2897\n",
            "weighted avg       0.92      0.92      0.92      2897\n",
            "\n"
          ]
        }
      ],
      "source": [
        "y_pred_final = loaded_pipeline.predict(X_test)\n",
        "report = classification_report(y_test, y_pred_final)\n",
        "print(report)"
      ]
    },
    {
      "cell_type": "markdown",
      "metadata": {
        "id": "zDyRd5k7G6Gs"
      },
      "source": [
        "## ============================ The End ==============================="
      ]
    }
  ],
  "metadata": {
    "colab": {
      "provenance": []
    },
    "kernelspec": {
      "display_name": "Python 3",
      "name": "python3"
    },
    "language_info": {
      "codemirror_mode": {
        "name": "ipython",
        "version": 3
      },
      "file_extension": ".py",
      "mimetype": "text/x-python",
      "name": "python",
      "nbconvert_exporter": "python",
      "pygments_lexer": "ipython3",
      "version": "3.11.5"
    }
  },
  "nbformat": 4,
  "nbformat_minor": 0
}