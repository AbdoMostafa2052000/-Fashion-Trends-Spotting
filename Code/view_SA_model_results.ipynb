{
  "cells": [
    {
      "cell_type": "code",
      "execution_count": 1,
      "metadata": {
        "colab": {
          "base_uri": "https://localhost:8080/"
        },
        "id": "01yBfAgy9ecK",
        "outputId": "a3522291-c312-48db-fe4e-ef9837a360e4"
      },
      "outputs": [
        {
          "output_type": "stream",
          "name": "stdout",
          "text": [
            "Drive already mounted at /content/drive; to attempt to forcibly remount, call drive.mount(\"/content/drive\", force_remount=True).\n",
            "/content/drive/MyDrive/ITI_GP_Twenty Too\n"
          ]
        }
      ],
      "source": [
        "from google.colab import drive\n",
        "drive.mount('/content/drive')\n",
        "%cd \"/content/drive/MyDrive/ITI_GP_Twenty Too\"\n",
        "! ls"
      ]
    },
    {
      "cell_type": "code",
      "execution_count": null,
      "metadata": {
        "colab": {
          "base_uri": "https://localhost:8080/"
        },
        "id": "KROUVa1-3pbN",
        "outputId": "6d319f40-85f4-4325-a518-7763863a5f4c"
      },
      "outputs": [
        {
          "name": "stdout",
          "output_type": "stream",
          "text": [
            "Collecting emoji\n",
            "  Downloading emoji-2.12.1-py3-none-any.whl (431 kB)\n",
            "\u001b[2K     \u001b[90m━━━━━━━━━━━━━━━━━━━━━━━━━━━━━━━━━━━━━━━━\u001b[0m \u001b[32m431.4/431.4 kB\u001b[0m \u001b[31m2.6 MB/s\u001b[0m eta \u001b[36m0:00:00\u001b[0m\n",
            "\u001b[?25hRequirement already satisfied: typing-extensions>=4.7.0 in /usr/local/lib/python3.10/dist-packages (from emoji) (4.12.2)\n",
            "Installing collected packages: emoji\n",
            "Successfully installed emoji-2.12.1\n"
          ]
        }
      ],
      "source": [
        "! pip install emoji"
      ]
    },
    {
      "cell_type": "code",
      "execution_count": null,
      "metadata": {
        "id": "vPWM6eEp9v0x"
      },
      "outputs": [],
      "source": [
        "import joblib\n",
        "import pandas as pd\n",
        "import numpy as np\n",
        "import emoji\n",
        "import matplotlib.pyplot as plt\n",
        "from sklearn.pipeline import Pipeline\n",
        "from sklearn.base import BaseEstimator, TransformerMixin\n",
        "from sklearn.feature_extraction.text import TfidfVectorizer\n",
        "from sklearn.linear_model import LogisticRegression\n",
        "from sklearn.ensemble import VotingClassifier"
      ]
    },
    {
      "cell_type": "code",
      "execution_count": null,
      "metadata": {
        "id": "QUQxp4oe3OLX"
      },
      "outputs": [],
      "source": [
        "class Demojizer(BaseEstimator, TransformerMixin):\n",
        "    def fit(self, X, y=None):\n",
        "        return self\n",
        "\n",
        "    def transform(self, X, y=None):\n",
        "        return [emoji.demojize(text) for text in X]"
      ]
    },
    {
      "cell_type": "code",
      "execution_count": null,
      "metadata": {
        "id": "Z7aCswlm94ZW"
      },
      "outputs": [],
      "source": [
        "loaded_pipeline = joblib.load('SA.pkl')"
      ]
    },
    {
      "cell_type": "code",
      "execution_count": null,
      "metadata": {
        "colab": {
          "base_uri": "https://localhost:8080/",
          "height": 616
        },
        "id": "Sty7v1qGk_UL",
        "outputId": "8a6856fe-5dbd-416e-d110-c90e937735b0"
      },
      "outputs": [
        {
          "name": "stdout",
          "output_type": "stream",
          "text": [
            "Enter your text: ❤️‍🔥\n",
            "{'negative': 0.019868026144332692, 'neutral': 0.2124079616575075, 'positive': 0.7677240121981598}\n",
            "Final Prediction: positive\n"
          ]
        },
        {
          "data": {
            "image/png": "[encoded data removed]",
            "text/plain": [
              "<Figure size 1000x600 with 1 Axes>"
            ]
          },
          "metadata": {},
          "output_type": "display_data"
        }
      ],
      "source": [
        "text = input(\"Enter your text: \")\n",
        "text_series = pd.Series([text])\n",
        "probabilities = loaded_pipeline.predict_proba(text_series)\n",
        "\n",
        "# Get the actual target labels from the loaded pipeline\n",
        "target_labels = loaded_pipeline.classes_\n",
        "\n",
        "# Adjust the mapping to match the actual labels\n",
        "target_names = ['negative', 'neutral', 'positive']  # Keep the desired display names\n",
        "label_name_mapping = dict(zip(target_labels, target_names))\n",
        "\n",
        "class_labels = loaded_pipeline.classes_\n",
        "\n",
        "# Now this should work without KeyError\n",
        "prob_dict = {label_name_mapping[label]: prob for label, prob in zip(class_labels, probabilities[0])}\n",
        "\n",
        "final_prediction_label = loaded_pipeline.predict(text_series)[0]\n",
        "final_prediction_name = label_name_mapping[final_prediction_label]\n",
        "\n",
        "print(prob_dict)\n",
        "print(f\"Final Prediction: {final_prediction_name}\")\n",
        "\n",
        "# Plot the probabilities\n",
        "labels = list(prob_dict.keys())\n",
        "probs = list(prob_dict.values())\n",
        "\n",
        "colors = ['blue' if label != final_prediction_name else 'green' for label in labels]\n",
        "\n",
        "plt.figure(figsize=(10, 6))\n",
        "plt.bar(labels, probs, color=colors)\n",
        "plt.xlabel('Country')\n",
        "plt.ylabel('Probability')\n",
        "plt.title('Prediction Probabilities')\n",
        "plt.show()"
      ]
    },
    {
      "cell_type": "code",
      "execution_count": null,
      "metadata": {
        "id": "Mv189iS9lff6"
      },
      "outputs": [],
      "source": []
    }
  ],
  "metadata": {
    "colab": {
      "provenance": []
    },
    "kernelspec": {
      "display_name": "Python 3",
      "name": "python3"
    },
    "language_info": {
      "codemirror_mode": {
        "name": "ipython",
        "version": 3
      },
      "file_extension": ".py",
      "mimetype": "text/x-python",
      "name": "python",
      "nbconvert_exporter": "python",
      "pygments_lexer": "ipython3",
      "version": "3.11.4"
    }
  },
  "nbformat": 4,
  "nbformat_minor": 0
}